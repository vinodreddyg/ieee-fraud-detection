{
 "cells": [
  {
   "cell_type": "markdown",
   "metadata": {},
   "source": [
    "## Imports"
   ]
  },
  {
   "cell_type": "code",
   "execution_count": 1,
   "metadata": {
    "collapsed": true
   },
   "outputs": [],
   "source": [
    "%matplotlib inline\n",
    "%reload_ext autoreload\n",
    "%autoreload 2"
   ]
  },
  {
   "cell_type": "code",
   "execution_count": 2,
   "metadata": {
    "collapsed": true
   },
   "outputs": [],
   "source": [
    "import pandas as pd\n",
    "import numpy as np\n",
    "from matplotlib import pyplot as plt\n",
    "from pathlib import Path\n",
    "from tqdm import tqdm_notebook as tqdm\n",
    "import time"
   ]
  },
  {
   "cell_type": "code",
   "execution_count": 94,
   "metadata": {
    "collapsed": true
   },
   "outputs": [],
   "source": [
    "from sklearn.metrics import classification_report, precision_recall_curve, roc_auc_score, roc_curve"
   ]
  },
  {
   "cell_type": "code",
   "execution_count": 4,
   "metadata": {
    "collapsed": true
   },
   "outputs": [],
   "source": [
    "pd.options.display.max_rows = 1000\n",
    "pd.options.display.max_columns = 1000"
   ]
  },
  {
   "cell_type": "code",
   "execution_count": 5,
   "metadata": {
    "collapsed": true
   },
   "outputs": [],
   "source": [
    "path = Path('./data')"
   ]
  },
  {
   "cell_type": "code",
   "execution_count": 6,
   "metadata": {
    "collapsed": true
   },
   "outputs": [],
   "source": [
    "train = pd.read_csv(path/'base_features_train.csv')\n",
    "test = pd.read_csv(path/'base_features_test.csv')"
   ]
  },
  {
   "cell_type": "markdown",
   "metadata": {},
   "source": [
    "## Data Preparation"
   ]
  },
  {
   "cell_type": "code",
   "execution_count": 7,
   "metadata": {
    "collapsed": true
   },
   "outputs": [],
   "source": [
    "def mode_agg(ser):\n",
    "    mode = ser.mode()\n",
    "    return None if len(mode) == 0 else mode.iloc[0]"
   ]
  },
  {
   "cell_type": "code",
   "execution_count": 8,
   "metadata": {},
   "outputs": [
    {
     "data": {
      "application/vnd.jupyter.widget-view+json": {
       "model_id": "08cdda43a0284402a533253da069aa7b",
       "version_major": 2,
       "version_minor": 0
      },
      "text/plain": [
       "A Jupyter Widget"
      ]
     },
     "metadata": {},
     "output_type": "display_data"
    },
    {
     "name": "stdout",
     "output_type": "stream",
     "text": [
      "\n"
     ]
    }
   ],
   "source": [
    "for col in tqdm(['card2', 'card3', 'card4', 'card5', 'card6']):\n",
    "    combined_data = pd.concat([train[['card1', col]], test[['card1', col]]])\n",
    "    agg_ser = combined_data.groupby('card1')[col].agg(mode_agg)\n",
    "    train[col].fillna(train.card1.map(agg_ser), inplace=True)\n",
    "    test[col].fillna(test.card1.map(agg_ser), inplace=True)\n",
    "    train[col].fillna(train[col].mode().iloc[0], inplace=True)\n",
    "    test[col].fillna(test[col].mode().iloc[0], inplace=True)"
   ]
  },
  {
   "cell_type": "code",
   "execution_count": 9,
   "metadata": {
    "collapsed": true
   },
   "outputs": [],
   "source": [
    "train['P_emaildomain'].fillna('Nan', inplace=True)\n",
    "train['R_emaildomain'].fillna('Nan', inplace=True)\n",
    "test['P_emaildomain'].fillna('Nan', inplace=True)\n",
    "test['R_emaildomain'].fillna('Nan', inplace=True)"
   ]
  },
  {
   "cell_type": "code",
   "execution_count": 10,
   "metadata": {},
   "outputs": [
    {
     "data": {
      "text/plain": [
       "((590540, 28), (506691, 27))"
      ]
     },
     "execution_count": 10,
     "metadata": {},
     "output_type": "execute_result"
    }
   ],
   "source": [
    "train.shape, test.shape"
   ]
  },
  {
   "cell_type": "markdown",
   "metadata": {},
   "source": [
    "## Lightgbm dataset preparation"
   ]
  },
  {
   "cell_type": "code",
   "execution_count": 11,
   "metadata": {
    "collapsed": true
   },
   "outputs": [],
   "source": [
    "import lightgbm as lgb"
   ]
  },
  {
   "cell_type": "code",
   "execution_count": 12,
   "metadata": {
    "collapsed": true
   },
   "outputs": [],
   "source": [
    "cols = list(train.columns[2:-1])"
   ]
  },
  {
   "cell_type": "code",
   "execution_count": 13,
   "metadata": {
    "collapsed": true
   },
   "outputs": [],
   "source": [
    "categorical_cols = ['ProductCD', 'card4', 'card6', 'P_emaildomain', 'R_emaildomain']"
   ]
  },
  {
   "cell_type": "code",
   "execution_count": 14,
   "metadata": {},
   "outputs": [],
   "source": [
    "for col in categorical_cols:\n",
    "    col_levels = list(set(list(train[col].unique()) + list(test[col].unique())))\n",
    "    train[col] = pd.Categorical(train[col], categories=col_levels)\n",
    "    test[col] = pd.Categorical(test[col], categories=col_levels)"
   ]
  },
  {
   "cell_type": "code",
   "execution_count": 15,
   "metadata": {},
   "outputs": [],
   "source": [
    "train.sort_values('TransactionDT', inplace=True)"
   ]
  },
  {
   "cell_type": "code",
   "execution_count": 235,
   "metadata": {
    "collapsed": true
   },
   "outputs": [],
   "source": [
    "valid_perc = 0.0001"
   ]
  },
  {
   "cell_type": "code",
   "execution_count": 236,
   "metadata": {},
   "outputs": [],
   "source": [
    "train_check = pd.Series(train.index < (1-valid_perc)*len(train))\n",
    "valid_check = pd.Series(train.index > (1-valid_perc)*len(train))"
   ]
  },
  {
   "cell_type": "code",
   "execution_count": 237,
   "metadata": {},
   "outputs": [
    {
     "name": "stderr",
     "output_type": "stream",
     "text": [
      "/Users/vinodreddy/anaconda3/lib/python3.6/site-packages/ipykernel/__main__.py:1: UserWarning: Boolean Series key will be reindexed to match DataFrame index.\n",
      "  if __name__ == '__main__':\n"
     ]
    }
   ],
   "source": [
    "trnX, trnY, valX, valY = train[train_check][cols], train[train_check].isFraud.values, train[valid_check][cols], train[valid_check].isFraud.values "
   ]
  },
  {
   "cell_type": "code",
   "execution_count": 238,
   "metadata": {},
   "outputs": [],
   "source": [
    "trn_ds = lgb.Dataset(trnX, trnY)\n",
    "val_ds = trn_ds.create_valid(valX, valY)"
   ]
  },
  {
   "cell_type": "markdown",
   "metadata": {},
   "source": [
    "## Model Training"
   ]
  },
  {
   "cell_type": "code",
   "execution_count": 239,
   "metadata": {
    "collapsed": true
   },
   "outputs": [],
   "source": [
    "def lr(iter):\n",
    "    return 0.01*(0.999**iter)"
   ]
  },
  {
   "cell_type": "code",
   "execution_count": 240,
   "metadata": {
    "collapsed": true
   },
   "outputs": [],
   "source": [
    "\n",
    "parameters = {\n",
    "    'application': 'binary',\n",
    "    'objective': 'binary',\n",
    "    'metric': 'auc',\n",
    "    'is_unbalance': 'false',\n",
    "    'boosting': 'gbdt',\n",
    "    'num_leaves': 127,\n",
    "    'feature_fraction': 0.75,\n",
    "    'bagging_fraction': 0.9,\n",
    "    'bagging_freq': 20,\n",
    "    'verbose': 0,\n",
    "    'lambda_l2': 0.1,\n",
    "}"
   ]
  },
  {
   "cell_type": "code",
   "execution_count": 241,
   "metadata": {},
   "outputs": [
    {
     "name": "stderr",
     "output_type": "stream",
     "text": [
      "/Users/vinodreddy/anaconda3/lib/python3.6/site-packages/lightgbm/basic.py:1042: UserWarning: categorical_feature in Dataset is overridden. New categorical_feature is ['P_emaildomain', 'ProductCD', 'R_emaildomain', 'card4', 'card6']\n",
      "  warnings.warn('categorical_feature in Dataset is overridden. New categorical_feature is {}'.format(sorted(list(categorical_feature))))\n",
      "/Users/vinodreddy/anaconda3/lib/python3.6/site-packages/lightgbm/basic.py:685: UserWarning: categorical_feature in param dict is overridden.\n",
      "  warnings.warn('categorical_feature in param dict is overridden.')\n"
     ]
    },
    {
     "name": "stdout",
     "output_type": "stream",
     "text": [
      "[1]\tvalid_0's auc: 0.681034\n",
      "[2]\tvalid_0's auc: 0.689655\n",
      "[3]\tvalid_0's auc: 0.672414\n",
      "[4]\tvalid_0's auc: 0.62931\n",
      "[5]\tvalid_0's auc: 0.724138\n",
      "[6]\tvalid_0's auc: 0.775862\n",
      "[7]\tvalid_0's auc: 0.741379\n",
      "[8]\tvalid_0's auc: 0.724138\n",
      "[9]\tvalid_0's auc: 0.689655\n",
      "[10]\tvalid_0's auc: 0.689655\n",
      "[11]\tvalid_0's auc: 0.706897\n",
      "[12]\tvalid_0's auc: 0.689655\n",
      "[13]\tvalid_0's auc: 0.672414\n",
      "[14]\tvalid_0's auc: 0.724138\n",
      "[15]\tvalid_0's auc: 0.706897\n",
      "[16]\tvalid_0's auc: 0.724138\n",
      "[17]\tvalid_0's auc: 0.724138\n",
      "[18]\tvalid_0's auc: 0.741379\n",
      "[19]\tvalid_0's auc: 0.741379\n",
      "[20]\tvalid_0's auc: 0.724138\n",
      "[21]\tvalid_0's auc: 0.758621\n",
      "[22]\tvalid_0's auc: 0.827586\n",
      "[23]\tvalid_0's auc: 0.827586\n",
      "[24]\tvalid_0's auc: 0.827586\n",
      "[25]\tvalid_0's auc: 0.827586\n",
      "[26]\tvalid_0's auc: 0.827586\n",
      "[27]\tvalid_0's auc: 0.827586\n",
      "[28]\tvalid_0's auc: 0.827586\n",
      "[29]\tvalid_0's auc: 0.862069\n",
      "[30]\tvalid_0's auc: 0.862069\n",
      "[31]\tvalid_0's auc: 0.862069\n",
      "[32]\tvalid_0's auc: 0.844828\n",
      "[33]\tvalid_0's auc: 0.965517\n",
      "[34]\tvalid_0's auc: 0.965517\n",
      "[35]\tvalid_0's auc: 0.965517\n",
      "[36]\tvalid_0's auc: 0.965517\n",
      "[37]\tvalid_0's auc: 0.965517\n",
      "[38]\tvalid_0's auc: 0.965517\n",
      "[39]\tvalid_0's auc: 0.965517\n",
      "[40]\tvalid_0's auc: 0.965517\n",
      "[41]\tvalid_0's auc: 0.965517\n",
      "[42]\tvalid_0's auc: 0.965517\n",
      "[43]\tvalid_0's auc: 0.982759\n",
      "[44]\tvalid_0's auc: 0.982759\n",
      "[45]\tvalid_0's auc: 0.982759\n",
      "[46]\tvalid_0's auc: 0.982759\n",
      "[47]\tvalid_0's auc: 0.982759\n",
      "[48]\tvalid_0's auc: 0.982759\n",
      "[49]\tvalid_0's auc: 0.982759\n",
      "[50]\tvalid_0's auc: 0.982759\n",
      "[51]\tvalid_0's auc: 0.982759\n",
      "[52]\tvalid_0's auc: 0.982759\n",
      "[53]\tvalid_0's auc: 0.982759\n",
      "[54]\tvalid_0's auc: 0.982759\n",
      "[55]\tvalid_0's auc: 0.982759\n",
      "[56]\tvalid_0's auc: 0.982759\n",
      "[57]\tvalid_0's auc: 0.982759\n",
      "[58]\tvalid_0's auc: 0.982759\n",
      "[59]\tvalid_0's auc: 0.982759\n",
      "[60]\tvalid_0's auc: 0.982759\n",
      "[61]\tvalid_0's auc: 0.982759\n",
      "[62]\tvalid_0's auc: 0.982759\n",
      "[63]\tvalid_0's auc: 0.982759\n",
      "[64]\tvalid_0's auc: 0.982759\n",
      "[65]\tvalid_0's auc: 0.982759\n",
      "[66]\tvalid_0's auc: 0.982759\n",
      "[67]\tvalid_0's auc: 0.982759\n",
      "[68]\tvalid_0's auc: 0.982759\n",
      "[69]\tvalid_0's auc: 0.982759\n",
      "[70]\tvalid_0's auc: 0.982759\n",
      "[71]\tvalid_0's auc: 0.982759\n",
      "[72]\tvalid_0's auc: 0.982759\n",
      "[73]\tvalid_0's auc: 0.982759\n",
      "[74]\tvalid_0's auc: 0.982759\n",
      "[75]\tvalid_0's auc: 0.982759\n",
      "[76]\tvalid_0's auc: 0.982759\n",
      "[77]\tvalid_0's auc: 0.982759\n",
      "[78]\tvalid_0's auc: 0.982759\n",
      "[79]\tvalid_0's auc: 0.982759\n",
      "[80]\tvalid_0's auc: 0.982759\n",
      "[81]\tvalid_0's auc: 0.982759\n",
      "[82]\tvalid_0's auc: 0.982759\n",
      "[83]\tvalid_0's auc: 0.982759\n",
      "[84]\tvalid_0's auc: 0.982759\n",
      "[85]\tvalid_0's auc: 0.982759\n",
      "[86]\tvalid_0's auc: 0.982759\n",
      "[87]\tvalid_0's auc: 0.982759\n",
      "[88]\tvalid_0's auc: 0.982759\n",
      "[89]\tvalid_0's auc: 0.982759\n",
      "[90]\tvalid_0's auc: 0.982759\n",
      "[91]\tvalid_0's auc: 0.982759\n",
      "[92]\tvalid_0's auc: 0.982759\n",
      "[93]\tvalid_0's auc: 0.982759\n",
      "[94]\tvalid_0's auc: 0.982759\n",
      "[95]\tvalid_0's auc: 0.982759\n",
      "[96]\tvalid_0's auc: 0.982759\n",
      "[97]\tvalid_0's auc: 0.982759\n",
      "[98]\tvalid_0's auc: 0.982759\n",
      "[99]\tvalid_0's auc: 0.982759\n",
      "[100]\tvalid_0's auc: 0.982759\n",
      "[101]\tvalid_0's auc: 0.982759\n",
      "[102]\tvalid_0's auc: 0.982759\n",
      "[103]\tvalid_0's auc: 0.982759\n",
      "[104]\tvalid_0's auc: 0.982759\n",
      "[105]\tvalid_0's auc: 0.982759\n",
      "[106]\tvalid_0's auc: 0.982759\n",
      "[107]\tvalid_0's auc: 0.982759\n",
      "[108]\tvalid_0's auc: 0.982759\n",
      "[109]\tvalid_0's auc: 0.982759\n",
      "[110]\tvalid_0's auc: 0.982759\n",
      "[111]\tvalid_0's auc: 0.982759\n",
      "[112]\tvalid_0's auc: 0.982759\n",
      "[113]\tvalid_0's auc: 0.982759\n",
      "[114]\tvalid_0's auc: 0.982759\n",
      "[115]\tvalid_0's auc: 0.982759\n",
      "[116]\tvalid_0's auc: 0.982759\n",
      "[117]\tvalid_0's auc: 0.982759\n",
      "[118]\tvalid_0's auc: 0.982759\n",
      "[119]\tvalid_0's auc: 0.982759\n",
      "[120]\tvalid_0's auc: 0.982759\n",
      "[121]\tvalid_0's auc: 0.982759\n",
      "[122]\tvalid_0's auc: 0.982759\n",
      "[123]\tvalid_0's auc: 0.982759\n",
      "[124]\tvalid_0's auc: 0.982759\n",
      "[125]\tvalid_0's auc: 0.982759\n",
      "[126]\tvalid_0's auc: 0.982759\n",
      "[127]\tvalid_0's auc: 0.982759\n",
      "[128]\tvalid_0's auc: 0.982759\n",
      "[129]\tvalid_0's auc: 0.982759\n",
      "[130]\tvalid_0's auc: 0.982759\n",
      "[131]\tvalid_0's auc: 0.982759\n",
      "[132]\tvalid_0's auc: 0.982759\n",
      "[133]\tvalid_0's auc: 1\n",
      "[134]\tvalid_0's auc: 1\n",
      "[135]\tvalid_0's auc: 1\n",
      "[136]\tvalid_0's auc: 1\n",
      "[137]\tvalid_0's auc: 1\n",
      "[138]\tvalid_0's auc: 1\n",
      "[139]\tvalid_0's auc: 1\n",
      "[140]\tvalid_0's auc: 1\n",
      "[141]\tvalid_0's auc: 1\n",
      "[142]\tvalid_0's auc: 1\n",
      "[143]\tvalid_0's auc: 1\n",
      "[144]\tvalid_0's auc: 1\n",
      "[145]\tvalid_0's auc: 1\n",
      "[146]\tvalid_0's auc: 1\n",
      "[147]\tvalid_0's auc: 1\n",
      "[148]\tvalid_0's auc: 1\n",
      "[149]\tvalid_0's auc: 1\n",
      "[150]\tvalid_0's auc: 1\n",
      "[151]\tvalid_0's auc: 1\n",
      "[152]\tvalid_0's auc: 1\n",
      "[153]\tvalid_0's auc: 1\n",
      "[154]\tvalid_0's auc: 1\n",
      "[155]\tvalid_0's auc: 1\n",
      "[156]\tvalid_0's auc: 1\n",
      "[157]\tvalid_0's auc: 1\n",
      "[158]\tvalid_0's auc: 1\n",
      "[159]\tvalid_0's auc: 1\n",
      "[160]\tvalid_0's auc: 1\n",
      "[161]\tvalid_0's auc: 1\n",
      "[162]\tvalid_0's auc: 1\n",
      "[163]\tvalid_0's auc: 1\n",
      "[164]\tvalid_0's auc: 1\n",
      "[165]\tvalid_0's auc: 1\n",
      "[166]\tvalid_0's auc: 1\n",
      "[167]\tvalid_0's auc: 1\n",
      "[168]\tvalid_0's auc: 1\n",
      "[169]\tvalid_0's auc: 1\n",
      "[170]\tvalid_0's auc: 1\n",
      "[171]\tvalid_0's auc: 1\n",
      "[172]\tvalid_0's auc: 1\n",
      "[173]\tvalid_0's auc: 1\n",
      "[174]\tvalid_0's auc: 1\n",
      "[175]\tvalid_0's auc: 1\n",
      "[176]\tvalid_0's auc: 1\n",
      "[177]\tvalid_0's auc: 1\n",
      "[178]\tvalid_0's auc: 1\n",
      "[179]\tvalid_0's auc: 1\n",
      "[180]\tvalid_0's auc: 1\n",
      "[181]\tvalid_0's auc: 1\n",
      "[182]\tvalid_0's auc: 1\n",
      "[183]\tvalid_0's auc: 1\n",
      "[184]\tvalid_0's auc: 1\n",
      "[185]\tvalid_0's auc: 1\n",
      "[186]\tvalid_0's auc: 1\n",
      "[187]\tvalid_0's auc: 1\n",
      "[188]\tvalid_0's auc: 1\n",
      "[189]\tvalid_0's auc: 1\n",
      "[190]\tvalid_0's auc: 1\n",
      "[191]\tvalid_0's auc: 1\n",
      "[192]\tvalid_0's auc: 1\n",
      "[193]\tvalid_0's auc: 1\n",
      "[194]\tvalid_0's auc: 1\n",
      "[195]\tvalid_0's auc: 1\n",
      "[196]\tvalid_0's auc: 1\n",
      "[197]\tvalid_0's auc: 1\n",
      "[198]\tvalid_0's auc: 1\n",
      "[199]\tvalid_0's auc: 1\n",
      "[200]\tvalid_0's auc: 1\n"
     ]
    }
   ],
   "source": [
    "evals_result = {}\n",
    "model = lgb.train(parameters,\n",
    "                  trn_ds,\n",
    "                  valid_sets=val_ds,\n",
    "                  num_boost_round=200,\n",
    "                  feature_name=cols,\n",
    "                  categorical_feature=categorical_cols,\n",
    "                  evals_result=evals_result,\n",
    "                  callbacks=[lgb.reset_parameter(lr=lr)])"
   ]
  },
  {
   "cell_type": "markdown",
   "metadata": {},
   "source": [
    "## Analysis"
   ]
  },
  {
   "cell_type": "code",
   "execution_count": 159,
   "metadata": {},
   "outputs": [],
   "source": [
    "val_preds = model.predict(valX)"
   ]
  },
  {
   "cell_type": "code",
   "execution_count": 160,
   "metadata": {},
   "outputs": [
    {
     "name": "stdout",
     "output_type": "stream",
     "text": [
      "             precision    recall  f1-score   support\n",
      "\n",
      "          0       0.98      1.00      0.99    142534\n",
      "          1       0.78      0.35      0.48      5100\n",
      "\n",
      "avg / total       0.97      0.97      0.97    147634\n",
      "\n"
     ]
    }
   ],
   "source": [
    "print(classification_report(valY, val_preds>0.5))"
   ]
  },
  {
   "cell_type": "code",
   "execution_count": 161,
   "metadata": {},
   "outputs": [
    {
     "data": {
      "text/plain": [
       "Text(0,0.5,'Recall')"
      ]
     },
     "execution_count": 161,
     "metadata": {},
     "output_type": "execute_result"
    },
    {
     "data": {
      "image/png": "[encoded data removed]",
      "text/plain": [
       "<matplotlib.figure.Figure at 0x11d3fab38>"
      ]
     },
     "metadata": {},
     "output_type": "display_data"
    }
   ],
   "source": [
    "precs, recs, treshs = precision_recall_curve(valY, val_preds)\n",
    "plt.figure(figsize=(20,10))\n",
    "plt.plot(precs,recs)\n",
    "plt.xlabel('Precision')\n",
    "plt.ylabel('Recall')"
   ]
  },
  {
   "cell_type": "code",
   "execution_count": 162,
   "metadata": {},
   "outputs": [
    {
     "data": {
      "text/plain": [
       "Text(0.5,0,'False Positive Rate')"
      ]
     },
     "execution_count": 162,
     "metadata": {},
     "output_type": "execute_result"
    },
    {
     "data": {
      "image/png": "[encoded data removed]",
      "text/plain": [
       "<matplotlib.figure.Figure at 0x11ce1ef98>"
      ]
     },
     "metadata": {},
     "output_type": "display_data"
    }
   ],
   "source": [
    "fpr, tpr, threshold = roc_curve(valY, val_preds)\n",
    "plt.figure(figsize=(20,10))\n",
    "plt.plot(fpr,tpr)\n",
    "plt.ylabel('True Positive Rate')\n",
    "plt.xlabel('False Positive Rate')"
   ]
  },
  {
   "cell_type": "code",
   "execution_count": 163,
   "metadata": {},
   "outputs": [],
   "source": [
    "occurred_cards = trnX.card1.value_counts()\n",
    "valX['Seen'] = valX.card1.map(occurred_cards)\n",
    "valX['Seen'].fillna(0, inplace=True)"
   ]
  },
  {
   "cell_type": "code",
   "execution_count": 173,
   "metadata": {},
   "outputs": [
    {
     "name": "stdout",
     "output_type": "stream",
     "text": [
      "-1 0 0.88 1725\n",
      "0 5 0.89 5057\n",
      "5 10 0.89 3708\n",
      "10 50 0.92 16631\n",
      "50 100 0.94 10748\n",
      "100 500 0.90 29185\n",
      "500 1000 0.88 19269\n",
      "1000 2000 0.87 18276\n",
      "2000 4000 0.87 21016\n",
      "4000 10000 0.81 14984\n",
      "10000 20000 0.88 7035\n"
     ]
    }
   ],
   "source": [
    "buckets = [-1,0,5,10,50,100,500,1000,2000,4000,10000,20000]\n",
    "for i in range(1,len(buckets)):\n",
    "    check = (valX['Seen'] <= buckets[i]) & (valX['Seen'] > buckets[i-1])\n",
    "    print(buckets[i-1], buckets[i], '%0.2f'%roc_auc_score(valY[check], val_preds[check]), sum(check))"
   ]
  },
  {
   "cell_type": "markdown",
   "metadata": {},
   "source": [
    "## Plots"
   ]
  },
  {
   "cell_type": "code",
   "execution_count": 96,
   "metadata": {},
   "outputs": [
    {
     "data": {
      "text/plain": [
       "<matplotlib.axes._subplots.AxesSubplot at 0x11d6bdf60>"
      ]
     },
     "execution_count": 96,
     "metadata": {},
     "output_type": "execute_result"
    },
    {
     "data": {
      "image/png": "[encoded data removed]",
      "text/plain": [
       "<matplotlib.figure.Figure at 0x1216e9710>"
      ]
     },
     "metadata": {},
     "output_type": "display_data"
    }
   ],
   "source": [
    "lgb.plot_importance(model, figsize=(20,10))"
   ]
  },
  {
   "cell_type": "markdown",
   "metadata": {},
   "source": [
    "## Test Predictions"
   ]
  },
  {
   "cell_type": "code",
   "execution_count": 242,
   "metadata": {},
   "outputs": [],
   "source": [
    "test_preds = model.predict(test[cols])"
   ]
  },
  {
   "cell_type": "code",
   "execution_count": 243,
   "metadata": {},
   "outputs": [
    {
     "data": {
      "text/plain": [
       "array([0.00078171, 0.00297771, 0.00196999, ..., 0.00653313, 0.00708375,\n",
       "       0.00525882])"
      ]
     },
     "execution_count": 243,
     "metadata": {},
     "output_type": "execute_result"
    }
   ],
   "source": [
    "test_preds"
   ]
  },
  {
   "cell_type": "code",
   "execution_count": 244,
   "metadata": {},
   "outputs": [],
   "source": [
    "time_part = time.strftime('%d-%m-%y_%H:%M:%S')\n",
    "pred_df = pd.DataFrame({'TransactionID': test.TransactionID, 'isFraud': test_preds})"
   ]
  },
  {
   "cell_type": "code",
   "execution_count": 245,
   "metadata": {},
   "outputs": [],
   "source": [
    "pred_df['isFraud'] = pred_df['isFraud'].map(lambda x: int(x*10000)/10000.0)"
   ]
  },
  {
   "cell_type": "code",
   "execution_count": 246,
   "metadata": {
    "collapsed": true
   },
   "outputs": [],
   "source": [
    "pred_df.to_csv(path/'Submissions'/f'baseline_submission_{time_part}.csv', header=True, index=False)"
   ]
  },
  {
   "cell_type": "code",
   "execution_count": 27,
   "metadata": {},
   "outputs": [
    {
     "data": {
      "text/plain": [
       "506691"
      ]
     },
     "execution_count": 27,
     "metadata": {},
     "output_type": "execute_result"
    }
   ],
   "source": [
    "len(test_preds)"
   ]
  },
  {
   "cell_type": "code",
   "execution_count": 64,
   "metadata": {},
   "outputs": [
    {
     "data": {
      "text/plain": [
       "141907"
      ]
     },
     "execution_count": 64,
     "metadata": {},
     "output_type": "execute_result"
    }
   ],
   "source": [
    "len(test)"
   ]
  },
  {
   "cell_type": "code",
   "execution_count": 65,
   "metadata": {},
   "outputs": [
    {
     "data": {
      "text/plain": [
       "144233"
      ]
     },
     "execution_count": 65,
     "metadata": {},
     "output_type": "execute_result"
    }
   ],
   "source": [
    "len(train)"
   ]
  },
  {
   "cell_type": "code",
   "execution_count": null,
   "metadata": {
    "collapsed": true
   },
   "outputs": [],
   "source": []
  }
 ],
 "metadata": {
  "kernelspec": {
   "display_name": "Python [conda env:anaconda3]",
   "language": "python",
   "name": "conda-env-anaconda3-py"
  },
  "language_info": {
   "codemirror_mode": {
    "name": "ipython",
    "version": 3
   },
   "file_extension": ".py",
   "mimetype": "text/x-python",
   "name": "python",
   "nbconvert_exporter": "python",
   "pygments_lexer": "ipython3",
   "version": "3.6.3"
  }
 },
 "nbformat": 4,
 "nbformat_minor": 2
}
